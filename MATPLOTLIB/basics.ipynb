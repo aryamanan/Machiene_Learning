# Basics of MATPLOTLIB
- Creating easy line plots (linear graphs)
- Customising the plot style and labels to the axes
- Ading a title
- Creating a legend
from matplotlib import pyplot as plt
- For now, let's add some data directly in jupyter notebook for plotting
#   Median Developer Salaries by Age

# AGES as X label
ages_x = [18, 19, 20, 21, 22, 23, 24, 25, 26, 27, 28, 29, 30, 31, 32, 33, 34, 35,
        36, 37, 38, 39, 40, 41, 42, 43, 44, 45, 46, 47, 48, 49, 50, 51, 52, 53, 54, 55]
print(len(ages_x))
# and the respective SALARIES as Y label
sal_y = [20046, 17100, 20000, 24744, 30500, 37732, 41247, 45372, 48876, 53850, 57287, 63016, 65998, 70003, 70000, 71496, 75370, 83640, 84666,
        84392, 78254, 85000, 87038, 91991, 100000, 94796, 97962, 93302, 99240, 102736, 112285, 100771, 104708, 108423, 101407, 112542, 122870, 120000]

#   For Now we store these as elements in arrays with corresponding indices
plt.plot(ages_x, sal_y) #   Plotting the graph

plt.title('Median Salary (USD) by Age') #  Giving a title to our plot

plt.xlabel('Ages') # labeling X
plt.ylabel('Median salary (USD)') # labeling Y
# Updated Salaries after 2022

new_sal_y = [32046, 43100, 45000, 45474, 45500, 45732, 46247, 47372, 47876, 48850, 49287, 50016, 51998, 52003, 55000, 60496, 65370, 75640, 80666,
        84392, 78254, 85000, 87038, 91991, 100000, 94796, 97962, 93302, 99240, 102736, 102845, 112771, 114708, 118423, 111407, 122542, 132870, 150000]

# plotting a new graph using the same age range

plt.plot(ages_x, new_sal_y) #   Plotting the graph

