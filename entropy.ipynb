{
  "cells": [
    {
      "cell_type": "markdown",
      "source": [
        "# Shannon's Entropy\n",
        "\n",
        "- Information Entropy or Shannon's entropy  is a measure of the uncertainty or randomness in a set of data. It quantifies the amount of uncertainty (or surprise) involved in the value of a random variable or the outcome of a random process.\n",
        "\n",
        "- Its significance in the decision tree is that it allows us to estimate the impurity (possibility of obtaining unknown unexpected values) or heterogeneity (similarity in outcomes) of the target variable\n",
        "\n",
        "- ie how occasionally it gives a particular result, the lesser probability of getting that exact result, the lesser suprised we are when we don't get that result.\n",
        "\n",
        "- The entropy of a random variable is highest when it is completely random and low when it is highly predictable. High entropy means that the dataset has a lot of variability. Low entropy means most of the values of the dataset repeat (and therefore are redundant)\n",
        "\n",
        "- At a conceptual level, Shannon's Entropy is simply the \"amount of information\" in a variable, that translates to the amount of storage (e.g. number of bits) required to store the variable\n",
        "\n",
        "- This is because if a variable can give a variety of results, it means it has high entropy and we have to store different actions for those results, which can intuitively be understood to correspond to the amount of information in that variable.\n",
        "\n",
        "Following is the formula for Information Entropy:\n",
        "\n",
        "$$\n",
        "\n",
        "H(X) = - \\sum_{x} p(x) \\log_{2} p(x)\n",
        "\n",
        "$$\n",
        "<center>Entropy describes one probability distribution</center>\n",
        "\n",
        "$$\n",
        "H(X) = - \\sum_{x} p(x) \\log_{2} q(x)\n",
        "$$\n",
        "<center> Cross Entropy describes the relationship b/w 2 probability distributions</center>\n",
        "\n",
        "\n",
        "\n",
        "Where H(X) is the entropy of the random variable X, p(x) is the probability of event x occurring, and the summation is taken over all possible outcomes x. The logarithm is taken to base 2, which gives the entropy in units of bits"
      ],
      "metadata": {
        "collapsed": false,
        "id": "ka3AugVBGQ5y"
      }
    },
    {
      "cell_type": "code",
      "execution_count": null,
      "outputs": [],
      "source": [
        "import matplotlib.pyplot as plt\n",
        "import numpy as np"
      ],
      "metadata": {
        "id": "P-7hhhwmGQ50"
      }
    },
    {
      "cell_type": "code",
      "execution_count": null,
      "outputs": [
        {
          "name": "stdout",
          "output_type": "stream",
          "text": [
            "correct entropy: 0.5623351446188083\n",
            "Correct entropy: 0.5623351446188083\n"
          ]
        }
      ],
      "source": [
        "x=[0.25, .75] # discrete sample space for an event X\n",
        "\n",
        "H=0\n",
        "for p in x:\n",
        "    H-=p*np.log(p)\n",
        "\n",
        "print('correct entropy: '+ str(H))\n",
        "\n",
        "# also correct, written out of N=2 events\n",
        "\n",
        "H=-(p*np.log(p)+(1-p)*np.log(1-p))\n",
        "print('Correct entropy: '+str(H))"
      ],
      "metadata": {
        "id": "rQ3IUHojGQ51",
        "outputId": "e0041dd0-ebe2-49cc-e4fc-eca561cb8df0"
      }
    },
    {
      "cell_type": "markdown",
      "source": [
        "## Cross Entropy"
      ],
      "metadata": {
        "collapsed": false,
        "id": "F1cKQdTRGQ51"
      }
    },
    {
      "cell_type": "code",
      "execution_count": null,
      "outputs": [
        {
          "name": "stdout",
          "output_type": "stream",
          "text": [
            "Cross entropy: 1.3862943611198906\n"
          ]
        }
      ],
      "source": [
        "#   Note: all probabilities must sum to 1 in a sample space\n",
        "\n",
        "p=[1,0] # sum=1\n",
        "q=[.25,.75] # sum=1\n",
        "\n",
        "H=0\n",
        "for i in range(len(p)):\n",
        "    H-=p[i]*np.log(q[i])\n",
        "\n",
        "print('Cross entropy: '+str(H))"
      ],
      "metadata": {
        "id": "uF0BlSIRGQ52",
        "outputId": "7f3e9df8-cd8c-4658-a5b6-b83fcb4aff3a"
      }
    },
    {
      "cell_type": "code",
      "execution_count": null,
      "outputs": [],
      "source": [
        "# also correct, written out for N=2 events\n",
        "H-=(p[0]*np.log(q[0])+p[1]*np.log(q[1]))\n",
        "\n",
        "print('Correct entropy: '+str(H))\n",
        "\n",
        "#   simplification\n",
        "H=-np.log(q[0])\n",
        "print('Manually simplified ')"
      ],
      "metadata": {
        "id": "hBAy6wlFGQ52"
      }
    },
    {
      "cell_type": "markdown",
      "source": [
        "## Differences in Entropy and Variance\n",
        "- Entropy is non-linear and makes no assumption about the distribution\n",
        "- Variance depends on the validity of the mean therefore is appropriate for roughly normal data."
      ],
      "metadata": {
        "collapsed": false,
        "id": "Uf835akYGQ52"
      }
    },
    {
      "cell_type": "code",
      "execution_count": null,
      "outputs": [],
      "source": [
        "# now using pytorch\n",
        "import torch\n",
        "import torch.nn.functional as func"
      ],
      "metadata": {
        "id": "DGwyeR_qGQ52"
      }
    },
    {
      "cell_type": "code",
      "execution_count": null,
      "outputs": [
        {
          "data": {
            "text/plain": "tensor(1.3863)"
          },
          "execution_count": 23,
          "metadata": {},
          "output_type": "execute_result"
        }
      ],
      "source": [
        "q_tensor=torch.Tensor(q)\n",
        "p_tensor=torch.Tensor(p)\n",
        "\n",
        "\n",
        "#  This function is sensitive to order of the inputs and doesn't work with numpy so well, so we have to define p and q as tensors and can't use the numpy array p and q directly\n",
        "\n",
        "func.binary_cross_entropy(q_tensor, p_tensor)"
      ],
      "metadata": {
        "id": "6KVl4YeiGQ53",
        "outputId": "ade0fbc7-9c99-40c6-b3e7-7331154fc71e"
      }
    },
    {
      "cell_type": "code",
      "execution_count": null,
      "outputs": [
        {
          "name": "stderr",
          "output_type": "stream",
          "text": [
            "/var/folders/5k/k70qf4916qg33hlh5mv8hkxc0000gn/T/ipykernel_47987/58059951.py:4: RuntimeWarning: divide by zero encountered in log2\n",
            "  return -p * np.log2(p) - (1 - p) * np.log2(1 - p)\n",
            "/var/folders/5k/k70qf4916qg33hlh5mv8hkxc0000gn/T/ipykernel_47987/58059951.py:4: RuntimeWarning: invalid value encountered in double_scalars\n",
            "  return -p * np.log2(p) - (1 - p) * np.log2(1 - p)\n"
          ]
        },
        {
          "data": {
            "text/plain": "<Figure size 640x480 with 1 Axes>",
            "image/png": "[encoded data removed]"
          },
          "metadata": {},
          "output_type": "display_data"
        }
      ],
      "source": [
        "# Let's plot how the entropy is distributed with respect to probability\n",
        "\n",
        "def entropy(p):\n",
        "    return -p * np.log2(p) - (1 - p) * np.log2(1 - p)\n",
        "\n",
        "probabilities = np.linspace(0, 1, num=100) # has values from 0 to 1, with 100 equal intervals\n",
        "entropies = [entropy(p) for p in probabilities]\n",
        "\n",
        "plt.plot(probabilities, entropies)\n",
        "plt.xlabel(\"Probability\")\n",
        "plt.ylabel(\"Entropy\")\n",
        "plt.title(\"Information Entropy vs Probability\")\n",
        "plt.show()\n"
      ],
      "metadata": {
        "id": "7asFZ1GaGQ53",
        "outputId": "127e43ab-d91c-484a-b92a-d91ed10c0605"
      }
    }
  ],
  "metadata": {
    "kernelspec": {
      "display_name": "Python 3",
      "language": "python",
      "name": "python3"
    },
    "language_info": {
      "codemirror_mode": {
        "name": "ipython",
        "version": 2
      },
      "file_extension": ".py",
      "mimetype": "text/x-python",
      "name": "python",
      "nbconvert_exporter": "python",
      "pygments_lexer": "ipython2",
      "version": "2.7.6"
    },
    "colab": {
      "provenance": []
    }
  },
  "nbformat": 4,
  "nbformat_minor": 0
}
