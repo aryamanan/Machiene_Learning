{
  "cells": [
    {
      "cell_type": "markdown",
      "source": [
        "# Sampling Variability\n",
        "#### Different samples from same population can have different values of the same measurement\n",
        "\n",
        "#### sampling variability basically means how much a single sample value can deviate from the mean of all the collected sample data\n",
        "\n",
        "- Sampling variability refers to the variability that exists between different samples that are drawn from the same population.\n",
        "- It is the degree to which the characteristics of a sample can change depending on the specific individuals that are selected to be included in the sample.\n",
        "- Sampling variability can be influenced by factors such as sample size, sampling method, and the distribution of the population being sampled.\n",
        "- In statistical analysis, it is important to account for sampling variability in order to accurately estimate population parameters and make valid inferences about the population.\n",
        "\n",
        "# Implication of Sampling Variablity\n",
        "#### A single measurement may be an unreliable estimate of a population parameter\n",
        "- Sample variability refers to the differences or fluctuations observed in a sample of data from a larger population. The implications of sample variability include:\n",
        "\n",
        "    - Uncertainty: The presence of variability in sample data leads to uncertainty in the results, making it difficult to draw accurate conclusions about the entire population.\n",
        "    <br />\n",
        "\n",
        "    - Bias: If the sample is not selected randomly and representatively, it can introduce bias into the results, affecting the accuracy and reliability of the findings.\n",
        "    <br />\n",
        "\n",
        "    - Confidence Intervals: The variability in the sample data affects the size of the confidence intervals, which represents the level of uncertainty in the results.\n",
        "    <br />\n",
        "\n",
        "    - Statistical Inference: The variability in sample data influences the statistical methods and techniques used to make inferences about the population.\n",
        "    <br />\n",
        "\n",
        "    - Generalization: It is important to consider the sample variability when generalizing the results of a study to the larger population, as it affects the validity and reliability of the conclusions.\n",
        "\n",
        "# Sources of Sapling Variablility\n",
        "- Natural Variation: Often seen in biology (eg height, weight) and physics (earthquake magnitute)\n",
        "- Sampling error: This is the difference between a sample estimate and the true population value.\n",
        "\n",
        "- Sample size: The larger the sample size, the smaller the sampling error.\n",
        "\n",
        "- Sample selection: The sample selected for analysis can impact the results. For example, if the sample is not representative of the population, the results may not be accurate.\n",
        "\n",
        "- Nonresponse: If a significant portion of the sample does not respond to a survey or questionnaire, this can impact the results.\n",
        "\n",
        "- Measurement error: If the measurement instrument used to collect data is not accurate, this can contribute to sampling variability.\n",
        "\n",
        "- Random variation: Random fluctuations in the data can contribute to sampling variability.\n",
        "\n",
        "- Data preparation: The way data is processed, such as by coding or cleaning, can impact the results.\n",
        "\n",
        "- Complex Systems: Measuring some factors while ignoring others (eg: measuring height while ignoring age etc)"
      ],
      "metadata": {
        "collapsed": false,
        "id": "VTjQr21SyQRU"
      }
    },
    {
      "cell_type": "code",
      "execution_count": null,
      "outputs": [],
      "source": [
        "|import matplotlib.pyplot as plt\n",
        "import torch\n",
        "import numpy as np"
      ],
      "metadata": {
        "id": "mRErvMWWyQRX"
      }
    },
    {
      "cell_type": "markdown",
      "source": [
        "# What to do with Sample Variability\n",
        "\n",
        "#### Take many samples! averaging together many samples will approximate to the true population mean (Law of Large Numbers)\n",
        "\n",
        "Increase sample size: Increasing the sample size can reduce the sampling error, making the sample estimate more reliable.\n",
        "\n",
        "Use a random sample: Selecting a random sample from the population can ensure that the sample is representative of the population.\n",
        "\n",
        "Reduce nonresponse: To reduce the impact of nonresponse, efforts can be made to increase response rates, such as by using incentives or follow-up calls.\n",
        "\n",
        "Improve measurement instruments: Ensuring that the measurement instruments used to collect data are accurate and reliable can reduce the impact of measurement error.\n",
        "\n",
        "Use appropriate statistical techniques: Choosing appropriate statistical techniques to analyze the data, such as regression analysis or bootstrapping, can help to account for sampling variability.\n",
        "\n",
        "Replicate the study: Replicating the study with a different sample can help to verify the results and reduce the impact of random variation.\n",
        "\n",
        "Use a larger set of data: If possible, using a larger set of data can help to reduce the impact of sampling variability.\n",
        "<br />\n",
        "\n",
        "# Is sample Variability good for DL?\n",
        "\n",
        "Positive impact:\n",
        "\n",
        "- Increased diversity: Sampling variability can increase the diversity of the training data, which can help to improve the generalizability of the model.\n",
        "\n",
        "- Improved robustness: By exposing the model to different variations of the data, sampling variability can help to improve the robustness of the model and reduce\n",
        " overfitting.\n",
        "\n",
        "        - Robustness in Deep Learning (DL) refers to the ability of a model to continue to perform well on unseen data, even in the presence of small variations or anomalies in the input data.\n",
        "         - A robust model is one that is able to generalize well to new data and is not overly sensitive to small changes in the input data.\n",
        "\n",
        "        - A robust DL model is desirable because it reduces the risk of overfitting, which occurs when a model is too closely fit to the training data and is unable to generalize to new data.\n",
        "         - Robust models are also better able to handle data that is noisy or contains outliers, which can negatively impact the performance of less robust models.\n",
        "\n",
        "Negative impact:\n",
        "\n",
        "- Increased noise: Sampling variability can also increase the noise in the training data, which can negatively impact the model's performance and increase the risk of overfitting.\n",
        "\n",
        "- Unbalanced data: If the sample is not representative of the population, it can lead to unbalanced data and negatively impact the model's performance.\n",
        "\n",
        "#### It is important to carefully consider the trade-off between diversity and noise when designing a DL model.\n"
      ],
      "metadata": {
        "collapsed": false,
        "id": "vvDq2Q6dyQRY"
      }
    },
    {
      "cell_type": "code",
      "execution_count": null,
      "outputs": [
        {
          "name": "stdout",
          "output_type": "stream",
          "text": [
            "[16 22 29 36 31 14 36 31 10 13  7 23 24  4 29  2  6 21  8 27]\n",
            "19.45\n",
            "17.6\n"
          ]
        }
      ],
      "source": [
        "# create a list of random numbers to compute the mean and variance of\n",
        "\n",
        "a=np.random.randint(1,40,20)\n",
        "print(a)\n",
        "n=len(a) # will be equal to 20 as defined above\n",
        "\n",
        "#   compute the population mean\n",
        "popmean=np.mean(a)\n",
        "\n",
        "#   compute a sample mean\n",
        "sample = np.random.choice(a,size=5,replace=True)\n",
        "# we picked any 5 elements from our population to make a sample\n",
        "samplemean=np.mean(sample)\n",
        "\n",
        "# print them\n",
        "print(popmean)\n",
        "print(samplemean)"
      ],
      "metadata": {
        "id": "QItE_c15yQRZ",
        "outputId": "ccf342df-f978-4975-fcef-945f0a4af400"
      }
    },
    {
      "cell_type": "code",
      "execution_count": null,
      "outputs": [
        {
          "data": {
            "text/plain": "<Figure size 640x480 with 1 Axes>",
            "image/png": "[encoded data removed]"
          },
          "metadata": {},
          "output_type": "display_data"
        }
      ],
      "source": [
        "# compute lots of sample means\n",
        "\n",
        "x = np.random.normal(10, 50, 5)\n",
        "\n",
        "# number of experiments to run\n",
        "nExpers = 100000\n",
        "\n",
        "# run the experiment\n",
        "\n",
        "sampleMeans=np.zeros(nExpers)\n",
        "for i in range(nExpers):\n",
        "\n",
        "    #step1\n",
        "    sample = np.random.choice(x,size=5,replace=True)\n",
        "\n",
        "    #step2: compute its mean\n",
        "    sampleMeans[i]=np.mean(sample)\n",
        "\n",
        "# show the results as a histogram\n",
        "plt.hist(sampleMeans, bins=40, density=True)\n",
        "plt.plot([popmean, popmean],[0,.08],'m--')\n",
        "plt.ylabel('Count')\n",
        "plt.xlabel('Sample mean')\n",
        "plt.show()"
      ],
      "metadata": {
        "id": "f9iraudqyQRa",
        "outputId": "e72da8da-de76-4fb0-fc95-3aca0a669d6f"
      }
    },
    {
      "cell_type": "markdown",
      "source": [
        "## Cross Entropy"
      ],
      "metadata": {
        "collapsed": false,
        "id": "YYmtWXDXyQRa"
      }
    },
    {
      "cell_type": "code",
      "execution_count": null,
      "outputs": [
        {
          "name": "stdout",
          "output_type": "stream",
          "text": [
            "Cross entropy: 1.3862943611198906\n"
          ]
        }
      ],
      "source": [
        "#   Note: all probabilities must sum to 1 in a sample space\n",
        "\n",
        "p=[1,0] # sum=1\n",
        "q=[.25,.75] # sum=1\n",
        "\n",
        "H=0\n",
        "for i in range(len(p)):\n",
        "    H-=p[i]*np.log(q[i])\n",
        "\n",
        "print('Cross entropy: '+str(H))"
      ],
      "metadata": {
        "id": "PF0xYYtIyQRa",
        "outputId": "b31aa357-cb96-4682-8ab9-0ceb455218a1"
      }
    },
    {
      "cell_type": "code",
      "execution_count": null,
      "outputs": [],
      "source": [
        "# also correct, written out for N=2 events\n",
        "H-=(p[0]*np.log(q[0])+p[1]*np.log(q[1]))\n",
        "\n",
        "print('Correct entropy: '+str(H))\n",
        "\n",
        "#   simplification\n",
        "H=-np.log(q[0])\n",
        "print('Manually simplified ')"
      ],
      "metadata": {
        "id": "2g_DhchlyQRb"
      }
    },
    {
      "cell_type": "markdown",
      "source": [
        "## Differences in Entropy and Variance\n",
        "- Entropy is non-linear and makes no assumption about the distribution\n",
        "- Variance depends on the validity of the mean therefore is appropriate for roughly normal data."
      ],
      "metadata": {
        "collapsed": false,
        "id": "eCONoGZhyQRb"
      }
    },
    {
      "cell_type": "code",
      "execution_count": null,
      "outputs": [],
      "source": [
        "# now using pytorch\n",
        "import torch\n",
        "import torch.nn.functional as func"
      ],
      "metadata": {
        "id": "aSiHsb8TyQRb"
      }
    },
    {
      "cell_type": "code",
      "execution_count": null,
      "outputs": [
        {
          "data": {
            "text/plain": "tensor(1.3863)"
          },
          "execution_count": 23,
          "metadata": {},
          "output_type": "execute_result"
        }
      ],
      "source": [
        "q_tensor=torch.Tensor(q)\n",
        "p_tensor=torch.Tensor(p)\n",
        "\n",
        "\n",
        "#  This function is sensitive to order of the inputs and doesn't work with numpy so well, so we have to define p and q as tensors and can't use the numpy array p and q directly\n",
        "\n",
        "func.binary_cross_entropy(q_tensor, p_tensor)"
      ],
      "metadata": {
        "id": "BRbRUySayQRb",
        "outputId": "366689a4-97ff-46a2-bede-cbe006fe228b"
      }
    },
    {
      "cell_type": "code",
      "execution_count": null,
      "outputs": [
        {
          "name": "stderr",
          "output_type": "stream",
          "text": [
            "/var/folders/5k/k70qf4916qg33hlh5mv8hkxc0000gn/T/ipykernel_47987/58059951.py:4: RuntimeWarning: divide by zero encountered in log2\n",
            "  return -p * np.log2(p) - (1 - p) * np.log2(1 - p)\n",
            "/var/folders/5k/k70qf4916qg33hlh5mv8hkxc0000gn/T/ipykernel_47987/58059951.py:4: RuntimeWarning: invalid value encountered in double_scalars\n",
            "  return -p * np.log2(p) - (1 - p) * np.log2(1 - p)\n"
          ]
        },
        {
          "data": {
            "text/plain": "<Figure size 640x480 with 1 Axes>",
            "image/png": "[encoded data removed]"
          },
          "metadata": {},
          "output_type": "display_data"
        }
      ],
      "source": [
        "# Let's plot how the entropy is distributed with respect to probability\n",
        "\n",
        "def entropy(p):\n",
        "    return -p * np.log2(p) - (1 - p) * np.log2(1 - p)\n",
        "\n",
        "probabilities = np.linspace(0, 1, num=100) # has values from 0 to 1, with 100 equal intervals\n",
        "entropies = [entropy(p) for p in probabilities]\n",
        "\n",
        "plt.plot(probabilities, entropies)\n",
        "plt.xlabel(\"Probability\")\n",
        "plt.ylabel(\"Entropy\")\n",
        "plt.title(\"Information Entropy vs Probability\")\n",
        "plt.show()\n"
      ],
      "metadata": {
        "id": "tTbihYyTyQRc",
        "outputId": "7b05c7e1-b2cc-49fa-ff13-978626631501"
      }
    }
  ],
  "metadata": {
    "kernelspec": {
      "display_name": "Python 3",
      "language": "python",
      "name": "python3"
    },
    "language_info": {
      "codemirror_mode": {
        "name": "ipython",
        "version": 2
      },
      "file_extension": ".py",
      "mimetype": "text/x-python",
      "name": "python",
      "nbconvert_exporter": "python",
      "pygments_lexer": "ipython2",
      "version": "2.7.6"
    },
    "colab": {
      "provenance": []
    }
  },
  "nbformat": 4,
  "nbformat_minor": 0
}