{
  "nbformat": 4,
  "nbformat_minor": 0,
  "metadata": {
    "colab": {
      "provenance": [],
      "authorship_tag": "ABX9TyOebGwYHp1vsBw6y5iKdled"
    },
    "kernelspec": {
      "name": "python3",
      "display_name": "Python 3"
    },
    "language_info": {
      "name": "python"
    }
  },
  "cells": [
    {
      "cell_type": "markdown",
      "source": [
        "# Logarithms\n",
        "\n",
        "First of all, the log is a monotonic function of X\n",
        "\n",
        "#### **What does that mean for a function to be monotonic?**\n",
        "- It means that whenever X goes up, the log also goes up and when X goes down, the log goes down. So they are monotonic functions. They both go up and down together."
      ],
      "metadata": {
        "id": "COoyZJMEB5-K"
      }
    },
    {
      "cell_type": "code",
      "execution_count": 16,
      "metadata": {
        "id": "6wkpp-iPKwhs"
      },
      "outputs": [],
      "source": [
        "# Importing Libraries\n",
        "\n",
        "import math as m\n",
        "import torch.nn as nn\n",
        "import numpy as np\n",
        "import matplotlib.pyplot as plt"
      ]
    },
    {
      "cell_type": "code",
      "source": [
        "# Lets make a log function and input a range of values x (both using numpy functions)\n",
        "\n",
        "\n",
        "# define a set of point to evaluate\n",
        "\n",
        "x=np.linspace(.0001,1,200)\n",
        "\n",
        "# compute their log\n",
        "\n",
        "logx = np.log(x)"
      ],
      "metadata": {
        "id": "bnmvel43Cqod"
      },
      "execution_count": 20,
      "outputs": []
    },
    {
      "cell_type": "markdown",
      "source": [
        "### ***Who cares if this is a if log is a monotonic function of X?***\n",
        "\n",
        "- This turns out to be important for optimization and for deep learning because it means that minimizing X is the same thing as minimizing the log of X.\n",
        "\n",
        "- That is to say, any tweaks we do to the model, any way that we change our deep learning model that minimizes X, ie makes X smaller, that's also going to make the log of X smaller, but not in the same proportions as log X isn't a linear function (that's a property we bring to our use)  \n",
        "\n",
        "- And that is what's special about a monotonic function in the context of optimization and deep learning.\n",
        "\n",
        "- Now, this is actually only true for positive values of X because the log is not defined for zero or any negative values of X, so log is only defined for values of X that are larger than zero.\n"
      ],
      "metadata": {
        "id": "4BdexH8lHC2r"
      }
    },
    {
      "cell_type": "code",
      "source": [
        "# plot\n",
        "plt.figure(figsize=(10,4)) #  how to change the font size of a figure.\n",
        "\n",
        "# increase font size FYI\n",
        "plt.rcParams.update({'font.size':15})\n",
        "\n",
        "plt.plot(x,logx,'ks-',markerfacecolor='w')\n",
        "plt.xlabel('x')\n",
        "plt.ylabel('log(x)')\n",
        "plt.show()"
      ],
      "metadata": {
        "colab": {
          "base_uri": "https://localhost:8080/",
          "height": 289
        },
        "id": "q-VYuBjnDXK_",
        "outputId": "cbff815f-7be3-4a7f-d1e0-0d9d50461b03"
      },
      "execution_count": 21,
      "outputs": [
        {
          "output_type": "display_data",
          "data": {
            "text/plain": [
              "<Figure size 720x288 with 1 Axes>"
            ],
            "image/png": "[encoded data removed]"
          },
          "metadata": {
            "needs_background": "light"
          }
        }
      ]
    },
    {
      "cell_type": "markdown",
      "source": [
        "*As we can see, the spacing between individual points is different from point to point, because log is a non-linear function, while being monotonic (log x increases with increase in x, strict direct proportionality)*\n",
        "\n",
        "- Notice here that the gap on the Y axis (log X) between two successive data points is huge when X makes change at the smallest values.\n",
        "\n",
        "- For example: value of log X shoots up high when X is between 0.0 and 0.2, but not so much difference in log X when 0.2 and 0.4 and so on.\n",
        "\n",
        "- This showcases that the closer we get to zero, the bigger the distance is on the Y axis in log space.\n"
      ],
      "metadata": {
        "id": "GFL-3QqBG4W0"
      }
    },
    {
      "cell_type": "markdown",
      "source": [
        "## ***Now, this is important because it means that the logarithm better distinguishes small numbers that are closely spaced to each other.***\n",
        "\n",
        "- And the reason why that is important is because in deep learning, we are often minimizing.\n",
        "\n",
        "- Very, very small quantities, probability values and loss values that are small and very close to zero, so minimizing the log turns out to be computationally easier than minimizing the original\n",
        "\n",
        "- SO for example, probability values. That's purely about numerical precision when you have tiny, tiny probability values that are really close to each other.\n",
        "\n",
        "- The computers are just going to have a hard time working with those really small numbers that are close together. \n",
        "\n",
        "- But if you take the log of those numbers, you can see now, you know, these are almost like one and\n",
        "a half units apart from each other.\n",
        "\n"
      ],
      "metadata": {
        "id": "dmLS7ZpBM5NL"
      }
    },
    {
      "cell_type": "code",
      "source": [
        "# log and exp\n",
        "logx = np.log(x)\n",
        "expx=np.exp(x)"
      ],
      "metadata": {
        "id": "LrP-3PoHEWZF"
      },
      "execution_count": 10,
      "outputs": []
    },
    {
      "cell_type": "code",
      "source": [
        "# the plot\n",
        "plt.plot(x, x, color=[.8, .8, .8])\n",
        "plt.plot(x,np.exp(logx), 'o', markersize=10) #markersize is how thick you want the line to be\n",
        "plt.plot(x,np.exp(logx), 'o', markersize=5)\n",
        "\n",
        "\n",
        "plt.xlabel('x')\n",
        "plt.ylabel('f(g(x))')\n",
        "\n",
        "\n",
        "plt.legend(['unity', 'exp(log(x))', 'log(exp(x))'])\n",
        "\n",
        "'''\n",
        "Legends --> the box which represents what coulored line represent which data\n",
        "- here blue line represents exp(log(x))\n",
        "- and orange line represents log(exp(x))\n",
        "\n",
        "Sometimes you may want to show more than one set of data on the same chart. For example :\n",
        "\n",
        "You may want to show the temperature in each month of two different years to show that one year had a warmer summer than the other.\n",
        "You may want to show how the time it takes for a liquid to cool is different when the liquid is placed in two different shaped containers.\n",
        "If this is the case then both sets of data are plotted on the same chart using different colours or patterns to distinguish them.\n",
        "A legend or key is then added to identify the two sets of data.\n",
        "'''\n",
        "\n",
        "\n",
        "plt.show()\n"
      ],
      "metadata": {
        "colab": {
          "base_uri": "https://localhost:8080/",
          "height": 289
        },
        "id": "79SKJwy_EtCl",
        "outputId": "80cf6217-9414-46ad-ee2e-e26e27cd2eae"
      },
      "execution_count": 26,
      "outputs": [
        {
          "output_type": "display_data",
          "data": {
            "text/plain": [
              "<Figure size 432x288 with 1 Axes>"
            ],
            "image/png": "[encoded data removed]"
          },
          "metadata": {
            "needs_background": "light"
          }
        }
      ]
    },
    {
      "cell_type": "markdown",
      "source": [
        "This shows that e^x and ln x are inverse of each other (inverse functions) and hence putting one function in the parameter of other will just give 'x' back itself."
      ],
      "metadata": {
        "id": "Jn6EqYqpSdaj"
      }
    }
  ]
}