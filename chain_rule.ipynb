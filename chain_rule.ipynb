{
  "cells": [
    {
      "cell_type": "markdown",
      "source": [
        "# Purpose of derivatives in Gradient Descent\n",
        "- The purpose of derivatives in gradient descent is to determine the rate of change of the cost function with respect to the model's parameters.\n",
        "- The cost function represents the difference between the model's predictions and the actual values, and the goal of gradient descent is to minimize this cost.\n",
        "\n",
        "- In gradient descent, the derivatives of the cost function with respect to the model's parameters are used to compute the gradient, which is a vector of the partial derivatives.\n",
        " - The gradient points in the direction of the steepest increase of the cost function, and the magnitude of the gradient represents the rate of change.\n",
        "\n",
        "- During each iteration of gradient descent, the parameters are updated in the direction of the negative gradient, i.e., in the direction of the steepest decrease of the cost function.\n",
        "- This ensures that the parameters are updated in such a way that the cost is gradually minimized.\n",
        "\n",
        "- By computing the derivatives, gradient descent is able to effectively navigate the parameter space and find the optimal parameters that minimize the cost function, which in turn leads to better model performance."
      ],
      "metadata": {
        "collapsed": false,
        "id": "GP7B8FwbrNFo"
      }
    },
    {
      "cell_type": "markdown",
      "source": [
        "#### Derivatives of \"interacting\" functions (multiplication and embedding) is unintuitive\n",
        "#### In practice, libraries like `pytorch`, `tensorflow`, etc have routines that estimate complicated derivatives very efficiently and accurately"
      ],
      "metadata": {
        "collapsed": false,
        "id": "AGDgiWlZrNFq"
      }
    },
    {
      "cell_type": "code",
      "execution_count": null,
      "outputs": [],
      "source": [
        "import numpy as np\n",
        "import sympy as sym\n",
        "\n",
        "# make the equation look nicer\n",
        "from IPython.display import display"
      ],
      "metadata": {
        "id": "P30NDdQwrNFr"
      }
    },
    {
      "cell_type": "code",
      "execution_count": null,
      "outputs": [
        {
          "name": "stdout",
          "output_type": "stream",
          "text": [
            "The function is: \n"
          ]
        },
        {
          "data": {
            "text/plain": "2*x**2",
            "text/latex": "$\\displaystyle 2 x^{2}$"
          },
          "metadata": {},
          "output_type": "display_data"
        },
        {
          "data": {
            "text/plain": "-3*x**4 + 4*x**3",
            "text/latex": "$\\displaystyle - 3 x^{4} + 4 x^{3}$"
          },
          "metadata": {},
          "output_type": "display_data"
        },
        {
          "name": "stdout",
          "output_type": "stream",
          "text": [
            " \n",
            "The derivatives: \n"
          ]
        },
        {
          "data": {
            "text/plain": "4*x",
            "text/latex": "$\\displaystyle 4 x$"
          },
          "metadata": {},
          "output_type": "display_data"
        },
        {
          "data": {
            "text/plain": "-12*x**3 + 12*x**2",
            "text/latex": "$\\displaystyle - 12 x^{3} + 12 x^{2}$"
          },
          "metadata": {},
          "output_type": "display_data"
        },
        {
          "name": "stdout",
          "output_type": "stream",
          "text": [
            " \n",
            "Manual Product rule: \n"
          ]
        },
        {
          "data": {
            "text/plain": "2*x**2*(-12*x**3 + 12*x**2) + 4*x*(-3*x**4 + 4*x**3)",
            "text/latex": "$\\displaystyle 2 x^{2} \\left(- 12 x^{3} + 12 x^{2}\\right) + 4 x \\left(- 3 x^{4} + 4 x^{3}\\right)$"
          },
          "metadata": {},
          "output_type": "display_data"
        },
        {
          "name": "stdout",
          "output_type": "stream",
          "text": [
            " \n",
            "Via sympy: \n"
          ]
        },
        {
          "data": {
            "text/plain": "2*x**2*(-12*x**3 + 12*x**2) + 4*x*(-3*x**4 + 4*x**3)",
            "text/latex": "$\\displaystyle 2 x^{2} \\left(- 12 x^{3} + 12 x^{2}\\right) + 4 x \\left(- 3 x^{4} + 4 x^{3}\\right)$"
          },
          "metadata": {},
          "output_type": "display_data"
        },
        {
          "data": {
            "text/plain": "2*x**2*(-12*x**3 + 12*x**2) + 4*x*(-3*x**4 + 4*x**3)",
            "text/latex": "$\\displaystyle 2 x^{2} \\left(- 12 x^{3} + 12 x^{2}\\right) + 4 x \\left(- 3 x^{4} + 4 x^{3}\\right)$"
          },
          "metadata": {},
          "output_type": "display_data"
        },
        {
          "name": "stdout",
          "output_type": "stream",
          "text": [
            " \n"
          ]
        }
      ],
      "source": [
        "# create symbolic variables in sympy\n",
        "x=sym.symbols('x')\n",
        "\n",
        "# create two functions\n",
        "fx=2*x**2\n",
        "gx=4*x**3 - 3*x**4\n",
        "\n",
        "# compute their individual derivatives\n",
        "df=sym.diff(fx)\n",
        "dg=sym.diff(gx)\n",
        "\n",
        "# apply the product rule manually\n",
        "manual = df*gx+fx*dg\n",
        "thewrongway=df*dg\n",
        "\n",
        "# via sympy\n",
        "viasympy=sym.diff(fx*gx)\n",
        "\n",
        "# print it all\n",
        "print('The function is: ')\n",
        "display(fx) # display command is part of ipython library\n",
        "display(gx)\n",
        "print(' ')\n",
        "\n",
        "print('The derivatives: ')\n",
        "display(df)\n",
        "display(dg)\n",
        "print(' ')\n",
        "\n",
        "print('Manual Product rule: ')\n",
        "display(manual)\n",
        "display()\n",
        "print(' ')\n",
        "\n",
        "print('Via sympy: ')\n",
        "display(viasympy)\n",
        "display(viasympy)\n",
        "print(' ')"
      ],
      "metadata": {
        "id": "uBo1b7Z6rNFs",
        "outputId": "93f64687-0c4d-4d3c-c23f-8642435d4394"
      }
    },
    {
      "cell_type": "code",
      "execution_count": null,
      "outputs": [
        {
          "name": "stdout",
          "output_type": "stream",
          "text": [
            "The function: \n"
          ]
        },
        {
          "data": {
            "text/plain": "(4*x**3 + x**2)**5",
            "text/latex": "$\\displaystyle \\left(4 x^{3} + x^{2}\\right)^{5}$"
          },
          "metadata": {},
          "output_type": "display_data"
        },
        {
          "name": "stdout",
          "output_type": "stream",
          "text": [
            " \n",
            "Its derivative\n"
          ]
        },
        {
          "data": {
            "text/plain": "(60*x**2 + 10*x)*(4*x**3 + x**2)**4",
            "text/latex": "$\\displaystyle \\left(60 x^{2} + 10 x\\right) \\left(4 x^{3} + x^{2}\\right)^{4}$"
          },
          "metadata": {},
          "output_type": "display_data"
        }
      ],
      "source": [
        "# repeat with the chain rule\n",
        "fx=(x**2+4*x**3)**5\n",
        "\n",
        "print('The function: ')\n",
        "display(fx)\n",
        "print(' ')\n",
        "\n",
        "print('Its derivative')\n",
        "display(sym.diff(fx))"
      ],
      "metadata": {
        "id": "P31NbmmvrNFt",
        "outputId": "964aca20-31a9-48a2-943e-bf7739017537"
      }
    }
  ],
  "metadata": {
    "kernelspec": {
      "display_name": "Python 3",
      "language": "python",
      "name": "python3"
    },
    "language_info": {
      "codemirror_mode": {
        "name": "ipython",
        "version": 2
      },
      "file_extension": ".py",
      "mimetype": "text/x-python",
      "name": "python",
      "nbconvert_exporter": "python",
      "pygments_lexer": "ipython2",
      "version": "2.7.6"
    },
    "colab": {
      "provenance": []
    }
  },
  "nbformat": 4,
  "nbformat_minor": 0
}