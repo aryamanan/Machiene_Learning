{
  "nbformat": 4,
  "nbformat_minor": 0,
  "metadata": {
    "colab": {
      "provenance": [],
      "authorship_tag": "ABX9TyM71PtJuOhc65wAx4347k0p"
    },
    "kernelspec": {
      "name": "python3",
      "display_name": "Python 3"
    },
    "language_info": {
      "name": "python"
    }
  },
  "cells": [
    {
      "cell_type": "markdown",
      "source": [
        "# **Softmax Function**"
      ],
      "metadata": {
        "id": "onYBjh7qRUCo"
      }
    },
    {
      "cell_type": "code",
      "execution_count": 2,
      "metadata": {
        "id": "8gKWexUwmunN"
      },
      "outputs": [],
      "source": [
        "import numpy as np\n",
        "import torch\n",
        "import torch.nn as nn\n",
        "import matplotlib.pyplot as plt\n",
        "import math as m"
      ]
    },
    {
      "cell_type": "code",
      "source": [
        "t1=np.array([[1],[12],[34],[65],[32]])\n",
        "t2=torch.tensor([[1,3,5,17,43]])\n",
        "xx=np.dot(t1,t2)\n",
        "print(xx)"
      ],
      "metadata": {
        "colab": {
          "base_uri": "https://localhost:8080/"
        },
        "id": "juyjI-E-m1Zk",
        "outputId": "0749a656-33a1-440b-d9ec-581ed39659c8"
      },
      "execution_count": 3,
      "outputs": [
        {
          "output_type": "stream",
          "name": "stdout",
          "text": [
            "[[   1    3    5   17   43]\n",
            " [  12   36   60  204  516]\n",
            " [  34  102  170  578 1462]\n",
            " [  65  195  325 1105 2795]\n",
            " [  32   96  160  544 1376]]\n"
          ]
        }
      ]
    },
    {
      "cell_type": "code",
      "source": [
        "z=[-2,-1,1,3,4]"
      ],
      "metadata": {
        "id": "3dMyXW5Lm70h"
      },
      "execution_count": 4,
      "outputs": []
    },
    {
      "cell_type": "code",
      "source": [
        "sm=np.exp(z) #makes a new np array each element being natural exponent for z (ie e^z)\n",
        "den=np.sum(sm) # sum of all elements in sm\n",
        "sigma=sm/den  # formula for softmax function e^z/ sum(e^z) for all z\n",
        "np.round(sigma, 3) # rounds the values to 2 decimal values\n"
      ],
      "metadata": {
        "colab": {
          "base_uri": "https://localhost:8080/"
        },
        "id": "tHZMPXqenJzh",
        "outputId": "332b61e5-23aa-48ab-bdba-6376cc48e342"
      },
      "execution_count": 16,
      "outputs": [
        {
          "output_type": "execute_result",
          "data": {
            "text/plain": [
              "array([0.002, 0.005, 0.035, 0.258, 0.701])"
            ]
          },
          "metadata": {},
          "execution_count": 16
        }
      ]
    },
    {
      "cell_type": "code",
      "source": [
        "np.sum(sigma)"
      ],
      "metadata": {
        "colab": {
          "base_uri": "https://localhost:8080/"
        },
        "id": "CLRdDYoBoGKP",
        "outputId": "1936c1f2-867f-4732-d4e6-e4ac6406ef0c"
      },
      "execution_count": 6,
      "outputs": [
        {
          "output_type": "execute_result",
          "data": {
            "text/plain": [
              "1.0"
            ]
          },
          "metadata": {},
          "execution_count": 6
        }
      ]
    },
    {
      "cell_type": "code",
      "source": [
        "plt.plot(z,sigma)\n",
        "plt.title(\"$\\sum\\sigma$ = %g\" %np.sum(sigma))\n",
        "plt.xlabel(\"Z\")\n",
        "plt.ylabel(\"softmax $\\sigma$\")\n",
        "plt.show()"
      ],
      "metadata": {
        "id": "DmD-AIIHpY9u",
        "colab": {
          "base_uri": "https://localhost:8080/",
          "height": 299
        },
        "outputId": "d406f630-c079-4a34-da85-1da90cdcd55b"
      },
      "execution_count": 14,
      "outputs": [
        {
          "output_type": "display_data",
          "data": {
            "text/plain": [
              "<Figure size 432x288 with 1 Axes>"
            ],
            "image/png": "[encoded data removed]"
          },
          "metadata": {
            "needs_background": "light"
          }
        }
      ]
    },
    {
      "cell_type": "code",
      "source": [
        "plt.plot(z,sigma)\n",
        "plt.title(\"$\\sum\\sigma$ = %g\" %np.sum(sigma))\n",
        "plt.xlabel(\"Z\")\n",
        "plt.ylabel(\"softmax $\\sigma$\")\n",
        "plt.yscale('log') # making the scale \n",
        "plt.show()"
      ],
      "metadata": {
        "id": "1NU36O24its6",
        "colab": {
          "base_uri": "https://localhost:8080/",
          "height": 299
        },
        "outputId": "a7775c30-1915-4904-e480-3eefff5090c3"
      },
      "execution_count": 15,
      "outputs": [
        {
          "output_type": "display_data",
          "data": {
            "text/plain": [
              "<Figure size 432x288 with 1 Axes>"
            ],
            "image/png": "[encoded data removed]"
          },
          "metadata": {
            "needs_background": "light"
          }
        }
      ]
    },
    {
      "cell_type": "markdown",
      "source": [
        "### Using PyTorch (better than using Numpy)"
      ],
      "metadata": {
        "id": "EoVww7mPTCAM"
      }
    },
    {
      "cell_type": "code",
      "source": [
        "#slightly more involved using torch.nn\n",
        "\n",
        "#create an instance of the softmax activation class\n",
        "\n",
        "softfun = nn.Softmax(dim=0) #predefined class softmax in Pytorch\n",
        "\n",
        "#then apply the data to that function\n",
        "sigmaT=softfun(torch.Tensor(z))\n",
        "\n",
        "\n",
        "print(sigmaT)"
      ],
      "metadata": {
        "colab": {
          "base_uri": "https://localhost:8080/"
        },
        "id": "TNUqyiDBRNVZ",
        "outputId": "58642703-bb0b-4266-ce1f-e1ad42399581"
      },
      "execution_count": 20,
      "outputs": [
        {
          "output_type": "stream",
          "name": "stdout",
          "text": [
            "tensor([0.0017, 0.0047, 0.0349, 0.2578, 0.7008])\n"
          ]
        }
      ]
    },
    {
      "cell_type": "code",
      "source": [
        "type(torch.tensor(z))"
      ],
      "metadata": {
        "colab": {
          "base_uri": "https://localhost:8080/"
        },
        "id": "zWhHxQyLUbbn",
        "outputId": "7f6820d4-fe2f-41d9-e69a-7396ab431d6d"
      },
      "execution_count": 22,
      "outputs": [
        {
          "output_type": "execute_result",
          "data": {
            "text/plain": [
              "torch.Tensor"
            ]
          },
          "metadata": {},
          "execution_count": 22
        }
      ]
    }
  ]
}
