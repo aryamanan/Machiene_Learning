{
  "cells": [
    {
      "cell_type": "markdown",
      "source": [
        "# Min/Max Functions\n",
        "\n",
        "- Used in artificial neural networks (ANNs) to normalize the inputs or outputs of the network.\n",
        "- Normalization is an important step in the preprocessing of data in ANNs as it helps to ensure that the inputs are within a similar range of values, which can make the training process faster and more effective.\n",
        "\n",
        "- These functions can be used to calculate the range of values in a dataset and then normalize the data by subtracting the minimum value and dividing by the range."
      ],
      "metadata": {
        "collapsed": false,
        "id": "dTksArFSMd9Y"
      }
    },
    {
      "cell_type": "code",
      "execution_count": null,
      "outputs": [],
      "source": [
        "import matplotlib.pyplot as plt\n",
        "import numpy as np"
      ],
      "metadata": {
        "id": "_XNdVyP_Md9a"
      }
    },
    {
      "cell_type": "code",
      "execution_count": null,
      "outputs": [
        {
          "name": "stdout",
          "output_type": "stream",
          "text": [
            "[0.0, 0.25, 0.5, 0.75, 1.0]\n"
          ]
        }
      ],
      "source": [
        "numbers = [1, 2, 3, 4, 5]\n",
        "\n",
        "# Find the minimum and maximum values in the list\n",
        "min_value = np.min(numbers)\n",
        "max_value = np.max(numbers)\n",
        "\n",
        "# Calculate the range of values\n",
        "range_value = max_value - min_value\n",
        "\n",
        "# Normalize the data\n",
        "normalized_numbers = [(x - min_value) / range_value for x in numbers]\n",
        "\n",
        "print(normalized_numbers)\n"
      ],
      "metadata": {
        "id": "YHtl-TrJMd9a",
        "outputId": "439af898-42d9-4c9d-a8f2-4680c734021a"
      }
    },
    {
      "cell_type": "markdown",
      "source": [],
      "metadata": {
        "collapsed": false,
        "id": "7o7lKcC1Md9b"
      }
    },
    {
      "cell_type": "markdown",
      "source": [
        "## Argmax/Argmin Functions\n",
        "\n",
        "- `argmax` and `argmin` are functions in Python that are used to find the indices of the maximum and minimum values in a list, respectively.\n",
        "- In the context of artificial neural networks (ANNs), these functions can be used to determine the class label of a sample based on the output of the neural network.\n",
        "\n",
        "<br />\n",
        "\n",
        "- For example, in a multi-class classification problem, the output of the neural network is a vector of probabilities, where each element represents the probability of the sample belonging to a particular class.\n",
        "- The class label can be determined by finding the index of the maximum probability in the output vector, which can be done using the `argmax` function."
      ],
      "metadata": {
        "collapsed": false,
        "id": "fPjYAuLHMd9b"
      }
    },
    {
      "cell_type": "code",
      "execution_count": null,
      "outputs": [
        {
          "name": "stdout",
          "output_type": "stream",
          "text": [
            "Min, Max indices: 3,0\n",
            "3\n",
            "0\n"
          ]
        }
      ],
      "source": [
        "output = [0.1, 0.2, 0.3, 0.4]\n",
        "\n",
        "# Find the index of the maximum value in the list\n",
        "class_label1 = np.argmax(output)\n",
        "class_label2 = np.argmin(output)\n",
        "\n",
        "# another way of doing this\n",
        "class_label_X = output.index(max(output))\n",
        "class_label_Y = output.index(min(output))\n",
        "\n",
        "print('Min, Max indices: %g,%g' %(class_label1,class_label2))\n",
        "print(class_label_X)\n",
        "print(class_label_Y)\n",
        "# Output: 3"
      ],
      "metadata": {
        "id": "Ri2csAIdMd9c",
        "outputId": "00b743e7-94c8-412a-880e-b11cce8fc9c8"
      }
    },
    {
      "cell_type": "code",
      "execution_count": null,
      "outputs": [
        {
          "name": "stdout",
          "output_type": "stream",
          "text": [
            "[[ 0  1 10]\n",
            " [20  8  5]]\n",
            " \n",
            "0\n",
            "[0 1 5]\n",
            "[0 5]\n"
          ]
        }
      ],
      "source": [
        "# repating this with a matrix\n",
        "M=np.array([[0,1,10],\n",
        "            [20,8,5]])\n",
        "print(M), print(' ')\n",
        "\n",
        "#various minima in this matrix\n",
        "minvals1=np.min(M) # minimum element of entire matrix\n",
        "minvals2=np.min(M, axis=0) #minimum element of each column (across rows)\n",
        "minvals3=np.min(M, axis=1) # minimum element of each row (across columns)\n",
        "print(minvals1)\n",
        "print(minvals2)\n",
        "print(minvals3)"
      ],
      "metadata": {
        "id": "kt1B8zbsMd9c",
        "outputId": "cc777530-9995-4af4-86be-ce831d894640"
      }
    },
    {
      "cell_type": "markdown",
      "source": [
        "### Using Pytorch"
      ],
      "metadata": {
        "collapsed": false,
        "id": "xqcpZ_5qMd9d"
      }
    },
    {
      "cell_type": "code",
      "execution_count": null,
      "outputs": [],
      "source": [
        "import torch\n",
        "import torch.nn.functional as func"
      ],
      "metadata": {
        "id": "bxtrtxBfMd9d"
      }
    },
    {
      "cell_type": "code",
      "execution_count": null,
      "outputs": [
        {
          "name": "stdout",
          "output_type": "stream",
          "text": [
            "Min, Max indices: 40,-3\n",
            "Min, Max indices: 3, 1\n"
          ]
        }
      ],
      "source": [
        "v=torch.Tensor([1,40,2,-3])\n",
        "\n",
        "# find and report min and max values\n",
        "maxval=torch.min(v)\n",
        "minval=torch.max(v)\n",
        "\n",
        "print('Min, Max indices: %g,%g' %(minval,maxval))\n",
        "\n",
        "minidx=torch.argmin(v)\n",
        "maxidx=torch.argmax(v)\n",
        "\n",
        "print('Min, Max indices: %g, %g' %(minidx, maxidx))\n"
      ],
      "metadata": {
        "id": "QN6PapCOMd9d",
        "outputId": "edeffe05-17b0-4824-bbd0-9f0ba3816d98"
      }
    },
    {
      "cell_type": "code",
      "execution_count": null,
      "outputs": [
        {
          "name": "stdout",
          "output_type": "stream",
          "text": [
            "tensor([[ 0,  1, 10],\n",
            "        [20,  8,  5]])\n",
            " \n",
            "torch.return_types.min(\n",
            "values=tensor([0, 1, 5]),\n",
            "indices=tensor([0, 0, 1]))\n",
            " \n",
            "tensor([0, 1, 5])\n",
            " \n",
            "tensor([0, 2])\n",
            " \n"
          ]
        },
        {
          "data": {
            "text/plain": "(None, None)"
          },
          "execution_count": 32,
          "metadata": {},
          "output_type": "execute_result"
        }
      ],
      "source": [
        "M=torch.tensor([[0,1,10],\n",
        "            [20,8,5]])\n",
        "print(M), print(' ')\n",
        "\n",
        "#various minima in this matrix\n",
        "min1=torch.min(M) # minimum element of entire matrix\n",
        "min2=torch.min(M, axis=0) #minimum element of each column (across rows)\n",
        "min3=torch.min(M, axis=1) # minimum element of each row (across columns)\n",
        "\n",
        "print(min2), print(' ')\n",
        "print(min2.values), print(' ')\n",
        "print(min3.indices), print(' ')"
      ],
      "metadata": {
        "id": "aF6aW8o9Md9e",
        "outputId": "6dbc8dfd-0989-470a-f49b-12a949e4bfc4"
      }
    },
    {
      "cell_type": "code",
      "execution_count": null,
      "outputs": [
        {
          "data": {
            "text/plain": "torch.return_types.min"
          },
          "execution_count": 33,
          "metadata": {},
          "output_type": "execute_result"
        }
      ],
      "source": [
        "type(min2)"
      ],
      "metadata": {
        "id": "FGSY-Z-TMd9e",
        "outputId": "57165ef9-8800-4a05-c0f4-a4c3976b4ea7"
      }
    }
  ],
  "metadata": {
    "kernelspec": {
      "display_name": "Python 3",
      "language": "python",
      "name": "python3"
    },
    "language_info": {
      "codemirror_mode": {
        "name": "ipython",
        "version": 2
      },
      "file_extension": ".py",
      "mimetype": "text/x-python",
      "name": "python",
      "nbconvert_exporter": "python",
      "pygments_lexer": "ipython2",
      "version": "2.7.6"
    },
    "colab": {
      "provenance": []
    }
  },
  "nbformat": 4,
  "nbformat_minor": 0
}
