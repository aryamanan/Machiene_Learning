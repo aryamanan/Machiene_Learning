{
  "nbformat": 4,
  "nbformat_minor": 0,
  "metadata": {
    "colab": {
      "provenance": [],
      "authorship_tag": "ABX9TyM7kf6hlgBaW1C6Pw16fL+L",
      "include_colab_link": true
    },
    "kernelspec": {
      "name": "python3",
      "display_name": "Python 3"
    },
    "language_info": {
      "name": "python"
    }
  },
  "cells": [
    {
      "cell_type": "markdown",
      "metadata": {
        "id": "view-in-github",
        "colab_type": "text"
      },
      "source": [
        "<a href=\"https://colab.research.google.com/github/aryamanan/Machiene_Learning/blob/main/Untitled1.ipynb\" target=\"_parent\"><img src=\"https://colab.research.google.com/assets/colab-badge.svg\" alt=\"Open In Colab\"/></a>"
      ]
    },
    {
      "cell_type": "code",
      "execution_count": null,
      "metadata": {
        "id": "53ADi1lpqFGI"
      },
      "outputs": [],
      "source": [
        "# Basics of MATPLOTLIB\n",
        "- Creating easy line plots (linear graphs)\n",
        "- Customising the plot style and labels to the axes\n",
        "- Ading a title\n",
        "- Creating a legend\n",
        "from matplotlib import pyplot as plt\n",
        "- For now, let's add some data directly in jupyter notebook for plotting\n",
        "#   Median Developer Salaries by Age\n",
        "\n",
        "# AGES as X label\n",
        "ages_x = [18, 19, 20, 21, 22, 23, 24, 25, 26, 27, 28, 29, 30, 31, 32, 33, 34, 35,\n",
        "        36, 37, 38, 39, 40, 41, 42, 43, 44, 45, 46, 47, 48, 49, 50, 51, 52, 53, 54, 55]\n",
        "print(len(ages_x))\n",
        "# and the respective SALARIES as Y label\n",
        "sal_y = [20046, 17100, 20000, 24744, 30500, 37732, 41247, 45372, 48876, 53850, 57287, 63016, 65998, 70003, 70000, 71496, 75370, 83640, 84666,\n",
        "        84392, 78254, 85000, 87038, 91991, 100000, 94796, 97962, 93302, 99240, 102736, 112285, 100771, 104708, 108423, 101407, 112542, 122870, 120000]\n",
        "\n",
        "#   For Now we store these as elements in arrays with corresponding indices\n",
        "plt.plot(ages_x, sal_y) #   Plotting the graph\n",
        "\n",
        "plt.title('Median Salary (USD) by Age') #  Giving a title to our plot\n",
        "\n",
        "plt.xlabel('Ages') # labeling X\n",
        "plt.ylabel('Median salary (USD)') # labeling Y\n",
        "# Updated Salaries after 2022\n",
        "\n",
        "new_sal_y = [32046, 43100, 45000, 45474, 45500, 45732, 46247, 47372, 47876, 48850, 49287, 50016, 51998, 52003, 55000, 60496, 65370, 75640, 80666,\n",
        "        84392, 78254, 85000, 87038, 91991, 100000, 94796, 97962, 93302, 99240, 102736, 102845, 112771, 114708, 118423, 111407, 122542, 132870, 150000]\n",
        "\n",
        "# plotting a new graph using the same age range\n",
        "\n",
        "plt.plot(ages_x, new_sal_y) #   Plotting the graph\n",
        "\n"
      ]
    }
  ]
}